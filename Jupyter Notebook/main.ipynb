{
 "cells": [
  {
   "cell_type": "code",
   "execution_count": 1,
   "id": "80bd8139",
   "metadata": {},
   "outputs": [
    {
     "data": {
      "application/javascript": [
       "\n",
       "try {\n",
       "require(['notebook/js/codecell'], function(codecell) {\n",
       "  codecell.CodeCell.options_default.highlight_modes[\n",
       "      'magic_text/x-csrc'] = {'reg':[/^%%microblaze/]};\n",
       "  Jupyter.notebook.events.one('kernel_ready.Kernel', function(){\n",
       "      Jupyter.notebook.get_cells().map(function(cell){\n",
       "          if (cell.cell_type == 'code'){ cell.auto_highlight(); } }) ;\n",
       "  });\n",
       "});\n",
       "} catch (e) {};\n"
      ]
     },
     "metadata": {},
     "output_type": "display_data"
    },
    {
     "data": {
      "application/javascript": [
       "\n",
       "try {\n",
       "require(['notebook/js/codecell'], function(codecell) {\n",
       "  codecell.CodeCell.options_default.highlight_modes[\n",
       "      'magic_text/x-csrc'] = {'reg':[/^%%pybind11/]};\n",
       "  Jupyter.notebook.events.one('kernel_ready.Kernel', function(){\n",
       "      Jupyter.notebook.get_cells().map(function(cell){\n",
       "          if (cell.cell_type == 'code'){ cell.auto_highlight(); } }) ;\n",
       "  });\n",
       "});\n",
       "} catch (e) {};\n"
      ]
     },
     "metadata": {},
     "output_type": "display_data"
    }
   ],
   "source": [
    "from pynq import Overlay\n"
   ]
  },
  {
   "cell_type": "code",
   "execution_count": 2,
   "id": "ed825b3c",
   "metadata": {},
   "outputs": [],
   "source": [
    "ol = Overlay(\"usb_microblaze.bit\")\n"
   ]
  },
  {
   "cell_type": "code",
   "execution_count": 3,
   "id": "a218dbb7",
   "metadata": {},
   "outputs": [],
   "source": [
    "customIOP = {\n",
    "    'ip_name': ol.CustomIOP.description[\"memories\"][\"axi_bram_ctrl_0\"][\"fullpath\"], #'CustomIOP/axi_bram_ctrl_0',\n",
    "    'rst_name': \"xlslice_0\", #'mb_iop_pmoda_reset',\n",
    "    'intr_pin_name': \"CustomIOP/dff_en_reset_vector_0/q\", #'iop_pmoda/dff_en_reset_vector_0/q'\n",
    "    'intr_ack_name': \"xlslice_1\"#'mb_iop_pmoda_intr_ack'\n",
    "    }"
   ]
  },
  {
   "cell_type": "code",
   "execution_count": 4,
   "id": "aa9bc682",
   "metadata": {},
   "outputs": [],
   "source": [
    "from pynq.lib import PynqMicroblaze"
   ]
  },
  {
   "cell_type": "code",
   "execution_count": 5,
   "id": "87b8122c",
   "metadata": {},
   "outputs": [],
   "source": [
    "MAILBOX_OFFSET = 0xF000\n",
    "MAILBOX_SIZE = 0x1000\n",
    "MAILBOX_PY2IOP_CMD_OFFSET = 0xffc\n",
    "MAILBOX_PY2IOP_ADDR_OFFSET = 0xff8\n",
    "MAILBOX_PY2IOP_DATA_OFFSET = 0xf00\n",
    "\n",
    "TEST = 0x69\n",
    "SEND = 0x9\n",
    "INIT = 0x23\n",
    "\n",
    "ARDUINO_ADDRESS = 0x02 "
   ]
  },
  {
   "cell_type": "code",
   "execution_count": 6,
   "id": "7a0cd6e8",
   "metadata": {},
   "outputs": [],
   "source": [
    "import time\n",
    "class MB(PynqMicroblaze):\n",
    "    def __init__(self, mb_info, mb_program):\n",
    "        super().__init__(mb_info, mb_program)\n",
    "\n",
    "    def write_mailbox(self, data_offset, data):\n",
    "        offset = MAILBOX_OFFSET + data_offset\n",
    "        self.write(offset, data)\n",
    "\n",
    "    def read_mailbox(self, data_offset, num_words=1):\n",
    "        offset = MAILBOX_OFFSET + data_offset\n",
    "        return self.read(offset, num_words)\n",
    "\n",
    "    def write_blocking_command(self, command):\n",
    "        self.write(MAILBOX_OFFSET + MAILBOX_PY2IOP_CMD_OFFSET, command)\n",
    "        while self.read(MAILBOX_OFFSET + MAILBOX_PY2IOP_CMD_OFFSET) != 0:\n",
    "            pass\n",
    "    def write_blocking_command_addr(self, addr, command):\n",
    "        self.write(addr, command)\n",
    "        while self.read(addr) != 0:\n",
    "            pass        \n",
    "\n",
    "    def write_non_blocking_command(self, command):\n",
    "        self.write(MAILBOX_OFFSET + MAILBOX_PY2IOP_CMD_OFFSET, command)"
   ]
  },
  {
   "cell_type": "code",
   "execution_count": 50,
   "id": "0f24f143",
   "metadata": {},
   "outputs": [],
   "source": [
    "mb_info = customIOP\n",
    "\n",
    "_mb = MB(mb_info, \"usb_microblaze.bin\")"
   ]
  },
  {
   "cell_type": "code",
   "execution_count": 51,
   "id": "873c276b",
   "metadata": {},
   "outputs": [
    {
     "data": {
      "text/plain": [
       "69"
      ]
     },
     "execution_count": 51,
     "metadata": {},
     "output_type": "execute_result"
    }
   ],
   "source": [
    "_mb.write_mailbox(0, 0)\n",
    "_mb.write_blocking_command(TEST)\n",
    "_mb.read_mailbox(0x0)"
   ]
  },
  {
   "cell_type": "code",
   "execution_count": 52,
   "id": "67237c70",
   "metadata": {},
   "outputs": [
    {
     "data": {
      "text/plain": [
       "4"
      ]
     },
     "execution_count": 52,
     "metadata": {},
     "output_type": "execute_result"
    }
   ],
   "source": [
    "_mb.write_mailbox(0, 4)\n",
    "_mb.write_blocking_command(INIT)\n",
    "_mb.read_mailbox(0x0)"
   ]
  },
  {
   "cell_type": "code",
   "execution_count": 71,
   "id": "18022153",
   "metadata": {},
   "outputs": [],
   "source": [
    "for i in range(0,10):\n",
    "    time.sleep(1)\n",
    "    _mb.write_mailbox(0, 87) # 'W'\n",
    "    _mb.write_mailbox(4, 1)\n",
    "    _mb.write_blocking_command(SEND)\n",
    "    _mb.read_mailbox(0x0)"
   ]
  }
 ],
 "metadata": {
  "kernelspec": {
   "display_name": "Python 3",
   "language": "python",
   "name": "python3"
  },
  "language_info": {
   "codemirror_mode": {
    "name": "ipython",
    "version": 3
   },
   "file_extension": ".py",
   "mimetype": "text/x-python",
   "name": "python",
   "nbconvert_exporter": "python",
   "pygments_lexer": "ipython3",
   "version": "3.8.2"
  }
 },
 "nbformat": 4,
 "nbformat_minor": 5
}
